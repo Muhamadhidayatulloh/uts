{
 "cells": [
  {
   "cell_type": "code",
   "execution_count": 31,
   "id": "e1a26eb2-b67d-4b4f-bfe9-4825191b1b06",
   "metadata": {},
   "outputs": [],
   "source": [
    "company_detail_list = [\n",
    "    {\n",
    "        'name': 'Company 1',\n",
    "        'domain': 'Retail',\n",
    "        'country': 'United States'\n",
    "    },\n",
    "    {\n",
    "        'name': 'Company 2',\n",
    "        'domain': 'Technology',\n",
    "        'country': 'United Kingdom'\n",
    "    },\n",
    "    {\n",
    "        'name': 'Company 3',\n",
    "        'domain': 'Healthcare',\n",
    "        'country': 'United States'\n",
    "    }\n",
    "]\n",
    "\n",
    "employee_detail_list = [\n",
    "    {\n",
    "        'name': 'EMP-0001',\n",
    "        'first_name': 'John',\n",
    "        'last_name': 'Doe',\n",
    "        'full_name': 'John Doe',\n",
    "        'company': 'Company 1',\n",
    "        'nationality': 'Australia'\n",
    "    },\n",
    "    {\n",
    "        'name': 'EMP-0002',\n",
    "        'first_name': 'Tom',\n",
    "        'last_name': 'Smith',\n",
    "        'full_name': 'Tom Smith',\n",
    "        'company': 'Company 2',\n",
    "        'nationality': 'United States'\n",
    "    },\n",
    "    {\n",
    "        'name': 'EMP-0003',\n",
    "        'first_name': 'Andrew',\n",
    "        'last_name': 'Sebastian',\n",
    "        'full_name': 'Andrew Sebastian',\n",
    "        'company': 'Company 3',\n",
    "        'nationality': 'United States'\n",
    "    },\n",
    "    {\n",
    "        'name': 'EMP-0005',\n",
    "        'first_name': 'Ying Han',\n",
    "        'last_name': 'Tan',\n",
    "        'full_name': 'Ying Han Tan',\n",
    "        'company': 'Company 1',\n",
    "        'nationality': 'Australia'\n",
    "    },\n",
    "    {\n",
    "        'name': 'EMP-0015',\n",
    "        'first_name': 'Kenneth',\n",
    "        'last_name': 'Ng',\n",
    "        'full_name': 'Kenneth Ng',\n",
    "        'company': 'Company 3',\n",
    "        'nationality': 'United States'\n",
    "    },\n",
    "    {\n",
    "        'name': 'EMP-0018',\n",
    "        'first_name': 'Rubby',\n",
    "        'last_name': 'Lee',\n",
    "        'full_name': 'Rubby Lee',\n",
    "        'company': 'Company 2',\n",
    "        'nationality': 'Hong Kong'\n",
    "    },\n",
    "    {\n",
    "        'name': 'EMP-0017',\n",
    "        'first_name': 'Robert',\n",
    "        'last_name': 'White',\n",
    "        'full_name': 'Robert White',\n",
    "        'company': 'Company 1',\n",
    "        'nationality': 'United Kingdom'\n",
    "    }\n",
    "]\n"
   ]
  },
  {
   "cell_type": "code",
   "execution_count": 32,
   "id": "4218998b-1ff8-484b-a86d-7ae37cd54ab2",
   "metadata": {},
   "outputs": [
    {
     "name": "stdout",
     "output_type": "stream",
     "text": [
      "[{'name': 'Company 3'}, {'name': 'Company 2'}, {'name': 'Company 1'}]\n"
     ]
    }
   ],
   "source": [
    "# Task 1\n",
    "def get_sorted_companies(company_detail_list):\n",
    "    sorted_companies = sorted(company_detail_list, key=lambda x: x['name'], reverse=True)\n",
    "    return [{\"name\": company['name']} for company in sorted_companies]\n",
    "\n",
    "# Contoh pemanggilan fungsi\n",
    "sorted_companies = get_sorted_companies(company_detail_list)\n",
    "print(sorted_companies)\n"
   ]
  },
  {
   "cell_type": "code",
   "execution_count": 33,
   "id": "8eb3bbaf-e2db-418f-af95-df90f0a563ac",
   "metadata": {},
   "outputs": [
    {
     "name": "stdout",
     "output_type": "stream",
     "text": [
      "Company 1: Retail (United States)\n",
      "Company 2: Technology (United Kingdom)\n",
      "Company 3: Healthcare (United States)\n"
     ]
    }
   ],
   "source": [
    "\n",
    "# Task 2\n",
    "def print_company_domains(company_detail_list):\n",
    "    for company in company_detail_list:\n",
    "        print(f\"{company['name']}: {company['domain']} ({company['country']})\")\n",
    "\n",
    "# Contoh pemanggilan fungsi\n",
    "print_company_domains(company_detail_list)\n",
    "\n"
   ]
  },
  {
   "cell_type": "code",
   "execution_count": 34,
   "id": "5645352f-1c76-4235-9191-be0b22a861f1",
   "metadata": {},
   "outputs": [
    {
     "name": "stdout",
     "output_type": "stream",
     "text": [
      "{'Retail': ['John Doe', 'Ying Han Tan', 'Robert White'], 'Technology': ['Tom Smith', 'Rubby Lee'], 'Healthcare': ['Andrew Sebastian', 'Kenneth Ng']}\n"
     ]
    }
   ],
   "source": [
    "# Task 3\n",
    "def list_employees_by_domain(employee_detail_list, company_detail_list):\n",
    "    domain_employees = {}\n",
    "    # Membuat peta perusahaan ke domainnya\n",
    "    company_domain_map = {company['name']: company['domain'] for company in company_detail_list}\n",
    "    \n",
    "    for employee in employee_detail_list:\n",
    "        company = employee['company']\n",
    "        domain = company_domain_map[company]\n",
    "        if domain not in domain_employees:\n",
    "            domain_employees[domain] = []\n",
    "        domain_employees[domain].append(employee['full_name'])\n",
    "    \n",
    "    return domain_employees\n",
    "\n",
    "# Contoh pemanggilan fungsi\n",
    "domain_employees = list_employees_by_domain(employee_detail_list, company_detail_list)\n",
    "print(domain_employees)\n"
   ]
  },
  {
   "cell_type": "code",
   "execution_count": 35,
   "id": "210796dc-f469-4b00-99fc-50eb7b26292d",
   "metadata": {},
   "outputs": [
    {
     "name": "stdout",
     "output_type": "stream",
     "text": [
      "[{'full_name': 'John Doe', 'company': 'Company 1', 'country': 'United States'}, {'full_name': 'Tom Smith', 'company': 'Company 2', 'country': 'United Kingdom'}, {'full_name': 'Andrew Sebastian', 'company': 'Company 3', 'country': 'United States'}, {'full_name': 'Ying Han Tan', 'company': 'Company 1', 'country': 'United States'}, {'full_name': 'Kenneth Ng', 'company': 'Company 3', 'country': 'United States'}, {'full_name': 'Rubby Lee', 'company': 'Company 2', 'country': 'United Kingdom'}, {'full_name': 'Robert White', 'company': 'Company 1', 'country': 'United States'}]\n"
     ]
    }
   ],
   "source": [
    "# Task 4\n",
    "def get_employees_with_company_country(employee_detail_list, company_detail_list):\n",
    "    company_country_map = {company['name']: company['country'] for company in company_detail_list}\n",
    "    employees_with_country = []\n",
    "\n",
    "    for employee in employee_detail_list:\n",
    "        company = employee['company']\n",
    "        country = company_country_map[company]\n",
    "        employees_with_country.append({\n",
    "            \"full_name\": employee['full_name'],\n",
    "            \"company\": company,\n",
    "            \"country\": country\n",
    "        })\n",
    "\n",
    "    return employees_with_country\n",
    "\n",
    "# Contoh pemanggilan fungsi\n",
    "employees_with_country = get_employees_with_company_country(employee_detail_list, company_detail_list)\n",
    "print(employees_with_country)\n"
   ]
  },
  {
   "cell_type": "code",
   "execution_count": 36,
   "id": "e413d7a6-43b3-4668-9266-62647ffe90db",
   "metadata": {},
   "outputs": [
    {
     "name": "stdout",
     "output_type": "stream",
     "text": [
      "[{'company': 'Company 1', 'employee_nationality': {'Australia': 2, 'United Kingdom': 1}}, {'company': 'Company 2', 'employee_nationality': {'United States': 1, 'Hong Kong': 1}}, {'company': 'Company 3', 'employee_nationality': {'United States': 2}}]\n"
     ]
    }
   ],
   "source": [
    "# Task 5\n",
    "from collections import defaultdict\n",
    "\n",
    "def get_employee_nationality_count(employee_detail_list):\n",
    "    company_nationality_count = defaultdict(lambda: defaultdict(int))\n",
    "    \n",
    "    for employee in employee_detail_list:\n",
    "        company = employee['company']\n",
    "        nationality = employee['nationality']\n",
    "        company_nationality_count[company][nationality] += 1\n",
    "    \n",
    "    # Format output ke dalam hasil yang diharapkan\n",
    "    result = []\n",
    "    for company, nationalities in company_nationality_count.items():\n",
    "        result.append({\n",
    "            \"company\": company,\n",
    "            \"employee_nationality\": dict(nationalities)\n",
    "        })\n",
    "    \n",
    "    return result\n",
    "\n",
    "# Contoh pemanggilan fungsi\n",
    "nationality_count = get_employee_nationality_count(employee_detail_list)\n",
    "print(nationality_count)\n"
   ]
  },
  {
   "cell_type": "code",
   "execution_count": null,
   "id": "6f27f51b-40ea-4c9d-9475-3cfadac389d0",
   "metadata": {},
   "outputs": [],
   "source": []
  }
 ],
 "metadata": {
  "kernelspec": {
   "display_name": "Python 3 (ipykernel)",
   "language": "python",
   "name": "python3"
  },
  "language_info": {
   "codemirror_mode": {
    "name": "ipython",
    "version": 3
   },
   "file_extension": ".py",
   "mimetype": "text/x-python",
   "name": "python",
   "nbconvert_exporter": "python",
   "pygments_lexer": "ipython3",
   "version": "3.13.0"
  }
 },
 "nbformat": 4,
 "nbformat_minor": 5
}
